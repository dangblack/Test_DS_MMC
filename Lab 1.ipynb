{
 "cells": [
  {
   "cell_type": "code",
   "execution_count": 1,
   "id": "5372b079-3c49-46ae-9ab3-cf2ce83354f8",
   "metadata": {},
   "outputs": [
    {
     "name": "stdout",
     "output_type": "stream",
     "text": [
      "Hello World\n"
     ]
    }
   ],
   "source": [
    "print(\"Hello World\")"
   ]
  },
  {
   "cell_type": "markdown",
   "id": "771a96b1-63e8-4cc6-92a4-8acaf3a0b0a6",
   "metadata": {},
   "source": [
    "# Heading 1\n",
    "## Heading 2\n",
    "## Heading 3\n"
   ]
  },
  {
   "cell_type": "markdown",
   "id": "4706fe68-23d1-4262-926e-43a199826966",
   "metadata": {},
   "source": [
    "*Italic*\n",
    "**bold**\n",
    "~~Scratch this~~"
   ]
  },
  {
   "cell_type": "markdown",
   "id": "2d67722d-79e8-4808-be48-b8579aa08266",
   "metadata": {},
   "source": [
    "1. First\n",
    "2. Second\n",
    "[3. Link Google](https://Google.com)\n"
   ]
  },
  {
   "cell_type": "markdown",
   "id": "919fd521-e049-43ac-af5a-a73b1c69c8d7",
   "metadata": {},
   "source": [
    "1. First\n",
    "2. Second\n",
    "3. [Link Google](https://Google.com)\n"
   ]
  },
  {
   "cell_type": "markdown",
   "id": "4a6f43c2-3bce-4a9a-9cc7-f80f6f03640d",
   "metadata": {},
   "source": [
    "```javascript\n",
    "var s = \"Java Script\";\n",
    "alert(s);\n",
    "```\n",
    "```python\n",
    "s = \"Hello World\";\n",
    "print(s)\n",
    "```"
   ]
  },
  {
   "cell_type": "markdown",
   "id": "43c8d46b-1656-4201-b551-3502564bd901",
   "metadata": {},
   "source": [
    "| header | header | \n",
    "| ------ | ------ | \n",
    "| cell | cell | \n"
   ]
  },
  {
   "cell_type": "markdown",
   "id": "77113f53-a7aa-4bed-b1a8-950023553b08",
   "metadata": {},
   "source": [
    "| Cot 1 |  Cot 2 | \n",
    "| ------ | ------ | \n",
    "| dong 1 | dong 2| "
   ]
  },
  {
   "cell_type": "markdown",
   "id": "83230009-39cd-4b24-8bc9-31cad3f2f14f",
   "metadata": {},
   "source": [
    "|1|2|\n",
    "| ------ | ------ | \n",
    "|1|2|"
   ]
  }
 ],
 "metadata": {
  "kernelspec": {
   "display_name": "Python 3 (ipykernel)",
   "language": "python",
   "name": "python3"
  },
  "language_info": {
   "codemirror_mode": {
    "name": "ipython",
    "version": 3
   },
   "file_extension": ".py",
   "mimetype": "text/x-python",
   "name": "python",
   "nbconvert_exporter": "python",
   "pygments_lexer": "ipython3",
   "version": "3.8.0"
  }
 },
 "nbformat": 4,
 "nbformat_minor": 5
}
